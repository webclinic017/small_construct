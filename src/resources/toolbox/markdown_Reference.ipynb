{
 "cells": [
  {
   "cell_type": "markdown",
   "metadata": {},
   "source": [
    "# MARKDOWN CHEATSHEET"
   ]
  },
  {
   "cell_type": "markdown",
   "metadata": {},
   "source": [
    "## SHORT-CUTS:"
   ]
  },
  {
   "cell_type": "code",
   "execution_count": 3,
   "metadata": {},
   "outputs": [],
   "source": [
    "# BOLD = **BOLD**\n",
    "    # OR\n",
    "# BOLD = __BOLD__"
   ]
  },
  {
   "cell_type": "markdown",
   "metadata": {},
   "source": [
    "BOLD = **BOLD**\n",
    "\n",
    "BOLD = __BOLD__"
   ]
  },
  {
   "cell_type": "code",
   "execution_count": 13,
   "metadata": {},
   "outputs": [],
   "source": [
    "# italics = _italics_ \n",
    "#     or \n",
    "# italics = *italics*"
   ]
  },
  {
   "cell_type": "markdown",
   "metadata": {},
   "source": [
    "italics = _italics_\n",
    "\n",
    "italics = *italics*"
   ]
  },
  {
   "cell_type": "code",
   "execution_count": 17,
   "metadata": {
    "slideshow": {
     "slide_type": "notes"
    }
   },
   "outputs": [],
   "source": [
    "# seperate paragraphs\n",
    "'''\n",
    "The sky above the port was the color of television,\n",
    "tuned to a dead channel. It was a bright cold day in April,\n",
    "and the clocks were striking thirteen.\n",
    "''';\n",
    "# set space between "
   ]
  },
  {
   "cell_type": "markdown",
   "metadata": {},
   "source": [
    "The sky above the port was the color of television,\n",
    "tuned to a dead channel. It was a bright cold day in April,\n",
    "\n",
    "and the clocks were striking thirteen."
   ]
  },
  {
   "cell_type": "code",
   "execution_count": 21,
   "metadata": {},
   "outputs": [],
   "source": [
    "# set next line\n",
    "'''\n",
    "I have eaten\n",
    "the plums\n",
    "that were in\n",
    "the icebox\n",
    "\n",
    "  >>> to >>>\n",
    "\n",
    "I have eaten\\\n",
    "the plums\\\n",
    "that were in\\\n",
    "the icebox\\\n",
    "\n",
    "''';"
   ]
  },
  {
   "cell_type": "markdown",
   "metadata": {},
   "source": [
    "I have eaten\n",
    "the plums\n",
    "that were in\n",
    "the icebox"
   ]
  },
  {
   "cell_type": "markdown",
   "metadata": {},
   "source": [
    "I have eaten\\\n",
    "the plums\\\n",
    "that were in\\\n",
    "the icebox\\"
   ]
  },
  {
   "cell_type": "code",
   "execution_count": 22,
   "metadata": {},
   "outputs": [],
   "source": [
    "# blockquote\n",
    "'''\n",
    "The quote “Somewhere, something incredible is waiting to be known”\n",
    "has been ascribed to Carl Sagan.\n",
    "\n",
    "  >>> to >>>\n",
    "  \n",
    "The quote\n",
    "\n",
    "> Somewhere, something incredible is waiting to be known\n",
    "\n",
    "has been ascribed to Carl Sagan.\n",
    "\n",
    "''';"
   ]
  },
  {
   "cell_type": "markdown",
   "metadata": {},
   "source": [
    "The quote\n",
    "\n",
    "> Somewhere, something incredible is waiting to be known\n",
    "\n",
    "has been ascribed to Carl Sagan."
   ]
  },
  {
   "cell_type": "markdown",
   "metadata": {},
   "source": [
    "My favorite Miss Manners quotes:\n",
    "\n",
    "> Allowing an unimportant mistake to pass without comment is a wonderful social grace.\n",
    ">\n",
    "> Ideological differences are no excuse for rudeness."
   ]
  },
  {
   "cell_type": "code",
   "execution_count": 23,
   "metadata": {},
   "outputs": [],
   "source": [
    "# lists\n",
    "'''\n",
    "- Flour\n",
    "- Cheese\n",
    "- Tomatoes\n",
    "\n",
    "Four steps to better sleep:\n",
    "1. Stick to a sleep schedule\n",
    "2. Create a bedtime ritual\n",
    "3. Get comfortable\n",
    "4. Manage stress\n",
    "\n",
    "\n",
    "''';"
   ]
  },
  {
   "cell_type": "markdown",
   "metadata": {},
   "source": [
    "- Flour\n",
    "- Cheese\n",
    "- Tomatoes"
   ]
  },
  {
   "cell_type": "markdown",
   "metadata": {},
   "source": [
    "Four steps to better sleep:\n",
    "1. Stick to a sleep schedule\n",
    "2. Create a bedtime ritual\n",
    "3. Get comfortable\n",
    "4. Manage stress"
   ]
  },
  {
   "cell_type": "markdown",
   "metadata": {},
   "source": [
    "1986\\. What a great season. Arguably the finest season in the history of the franchise."
   ]
  },
  {
   "cell_type": "code",
   "execution_count": 24,
   "metadata": {},
   "outputs": [],
   "source": [
    "# links\n",
    "'''\n",
    "You can do anything at <https://html5zombo.com>\n",
    "\n",
    "The [University of Rwanda](http://www.ur.ac.rw) was formed \n",
    "in 2013 through the merger of Rwanda’s seven public institutions \n",
    "of higher education.\n",
    "\n",
    "\n",
    "[Hurricane][1] Erika was the strongest and longest-lasting\n",
    "tropical cyclone in the 1997 Atlantic [hurricane][1] season.\n",
    "\n",
    "[1]:https://goo.gl/YEEHP0\n",
    "\n",
    "''';"
   ]
  },
  {
   "cell_type": "markdown",
   "metadata": {},
   "source": [
    "You can do anything at <https://html5zombo.com>"
   ]
  },
  {
   "cell_type": "markdown",
   "metadata": {},
   "source": [
    "The [University of Rwanda](http://www.ur.ac.rw) was formed in 2013 through the merger of Rwanda’s seven public institutions of higher education."
   ]
  },
  {
   "cell_type": "markdown",
   "metadata": {},
   "source": [
    "[Hurricane][1] Erika was the strongest and longest-lasting tropical cyclone in the 1997 Atlantic [hurricane][1] season.\n",
    "\n",
    "[1]:https://goo.gl/YEEHP0"
   ]
  },
  {
   "cell_type": "code",
   "execution_count": 26,
   "metadata": {},
   "outputs": [],
   "source": [
    "# images\n",
    "'''\n",
    "https://commonmark.org/help/images/favicon.png\n",
    "  >>> to >>>\n",
    "![](https://commonmark.org/help/images/favicon.png)\n",
    "\n",
    "\n",
    "![](https://commonmark.org/help/images/favicon.png)\n",
    "    >>> to >>>\n",
    "![Logo][1]\n",
    "\n",
    "[1]: https://commonmark.org/help/images/favicon.png \"Creative Commons licensed\"\n",
    "\n",
    "\n",
    "''';"
   ]
  },
  {
   "cell_type": "markdown",
   "metadata": {},
   "source": [
    "![](https://commonmark.org/help/images/favicon.png)"
   ]
  },
  {
   "cell_type": "markdown",
   "metadata": {},
   "source": [
    "![Logo][1]\n",
    "\n",
    "[1]: https://commonmark.org/help/images/favicon.png \"Creative Commons licensed\""
   ]
  },
  {
   "cell_type": "code",
   "execution_count": 28,
   "metadata": {},
   "outputs": [],
   "source": [
    "# code\n",
    "'''\n",
    "When x = 3, that means x + 2 = 5\n",
    "    >>> to >>>\n",
    "When `x = 3`, that means `x + 2 = 5`\n",
    "\n",
    "\n",
    "Who ate the most donuts this week?\n",
    "\n",
    "Jeff  15\n",
    "Sam   11\n",
    "Robin  6\n",
    "\n",
    "    >>> to >>>\n",
    "Who ate the most donuts this week?\n",
    "\n",
    "    Jeff  15\n",
    "    Sam   11\n",
    "    Robin  6\n",
    "\n",
    "\n",
    "A loop in JavaScript:\n",
    "\n",
    "var i;\n",
    "for (i=0; i<5; i++) {\n",
    "  console.log(i);\n",
    "}\n",
    "\n",
    "What numbers will this print?\n",
    "    >>> to >>>\n",
    "\n",
    "A loop in JavaScript:\n",
    "```\n",
    "var i;\n",
    "for (i=0; i<5; i++) {\n",
    "  console.log(i);\n",
    "}\n",
    "```\n",
    "What numbers will this print?\n",
    "''';"
   ]
  },
  {
   "cell_type": "markdown",
   "metadata": {},
   "source": [
    "When `x = 3`, that means `x + 2 = 5`"
   ]
  },
  {
   "cell_type": "markdown",
   "metadata": {},
   "source": [
    "Who ate the most donuts this week?\n",
    "\n",
    "    Jeff  15\n",
    "    Sam   11\n",
    "    Robin  6"
   ]
  },
  {
   "cell_type": "markdown",
   "metadata": {},
   "source": [
    "A loop in JavaScript:\n",
    "```\n",
    "var i;\n",
    "for (i=0; i<5; i++) {\n",
    "  console.log(i);\n",
    "}\n",
    "```\n",
    "What numbers will this print?"
   ]
  },
  {
   "cell_type": "code",
   "execution_count": 29,
   "metadata": {},
   "outputs": [],
   "source": [
    "# nested lists\n",
    "'''\n",
    "* Fruit\n",
    "* Apple\n",
    "* Orange\n",
    "* Banana\n",
    "* Dairy\n",
    "* Milk\n",
    "* Cheese\n",
    "\n",
    "    >>> to >>>\n",
    "\n",
    "* Fruit\n",
    "  * Apple\n",
    "  * Orange\n",
    "  * Banana\n",
    "* Dairy\n",
    "  * Milk\n",
    "  * Cheese\n",
    "  \n",
    "  \n",
    "+ World Cup 2014\n",
    "Germany\n",
    "Argentina\n",
    "Netherlands\n",
    "+ Rugby World Cup 2015\n",
    "New Zealand\n",
    "Australia\n",
    "South Africa\n",
    "\n",
    "    >>> to >>>\n",
    "    \n",
    "+ World Cup 2014\n",
    "  1. Germany\n",
    "  2. Argentina\n",
    "  3. Netherlands\n",
    "+ Rugby World Cup 2015\n",
    "  1. New Zealand\n",
    "  2. Australia\n",
    "  3. South Africa\n",
    "\n",
    "''';"
   ]
  },
  {
   "cell_type": "markdown",
   "metadata": {},
   "source": [
    "* Fruit\n",
    "* Apple\n",
    "* Orange\n",
    "* Banana\n",
    "* Dairy\n",
    "* Milk\n",
    "* Cheese"
   ]
  },
  {
   "cell_type": "markdown",
   "metadata": {},
   "source": [
    "* Fruit\n",
    "  * Apple\n",
    "  * Orange\n",
    "  * Banana\n",
    "* Dairy\n",
    "  * Milk\n",
    "  * Cheese"
   ]
  },
  {
   "cell_type": "markdown",
   "metadata": {},
   "source": [
    "+ World Cup 2014\n",
    "Germany\n",
    "Argentina\n",
    "Netherlands\n",
    "+ Rugby World Cup 2015\n",
    "New Zealand\n",
    "Australia\n",
    "South Africa"
   ]
  },
  {
   "cell_type": "markdown",
   "metadata": {},
   "source": [
    "+ World Cup 2014\n",
    "  1. Germany\n",
    "  2. Argentina\n",
    "  3. Netherlands\n",
    "+ Rugby World Cup 2015\n",
    "  1. New Zealand\n",
    "  2. Australia\n",
    "  3. South Africa"
   ]
  },
  {
   "cell_type": "code",
   "execution_count": 31,
   "metadata": {},
   "outputs": [],
   "source": [
    "# more\n",
    "'''\n",
    "1. Ingredients\n",
    "\n",
    "    - spaghetti\n",
    "    - marinara sauce\n",
    "    - salt\n",
    "\n",
    "2. Cooking\n",
    "\n",
    "   Bring water to boil, add a pinch of salt and spaghetti. Cook until pasta is **tender**.\n",
    "\n",
    "3. Serve\n",
    "\n",
    "   Drain the pasta on a plate. Add heated sauce. \n",
    "\n",
    "   > No man is lonely eating spaghetti; it requires so much attention.\n",
    "\n",
    "   Bon appetit!\n",
    "''';"
   ]
  },
  {
   "cell_type": "markdown",
   "metadata": {},
   "source": [
    "1. Ingredients\n",
    "\n",
    "    - spaghetti\n",
    "    - marinara sauce\n",
    "    - salt\n",
    "\n",
    "2. Cooking\n",
    "\n",
    "   Bring water to boil, add a pinch of salt and spaghetti. Cook until pasta is **tender**.\n",
    "\n",
    "3. Serve\n",
    "\n",
    "   Drain the pasta on a plate. Add heated sauce. \n",
    "\n",
    "   > No man is lonely eating spaghetti; it requires so much attention.\n",
    "\n",
    "   Bon appetit!"
   ]
  },
  {
   "cell_type": "code",
   "execution_count": 33,
   "metadata": {},
   "outputs": [],
   "source": [
    "'''\n",
    "Type\t… to Get\n",
    "*Italic*\tItalic\n",
    "**Bold**\tBold\n",
    "# Heading 1\t\n",
    "Heading 1\n",
    "## Heading 2\t\n",
    "Heading 2\n",
    "[Link](http://a.com)\tLink\n",
    "![Image](http://url/a.png)\tMarkdown\n",
    "> Blockquote\t\n",
    "Blockquote\n",
    "* List\n",
    "* List\n",
    "* List\n",
    "\n",
    "List\n",
    "List\n",
    "List\n",
    "1. One\n",
    "2. Two\n",
    "3. Three\n",
    "\n",
    "One\n",
    "Two\n",
    "Three\n",
    "Horizontal Rule\n",
    "\n",
    "---\tHorizontal Rule\n",
    "`Inline code` with backticks\tInline code with backticks\n",
    "```\n",
    "# code block\n",
    "print '3 backticks or'\n",
    "print 'indent 4 spaces'\n",
    "```\t\n",
    "# code block\n",
    "print '3 backticks or'\n",
    "print 'indent 4 spaces'\n",
    "\n",
    "''';"
   ]
  },
  {
   "cell_type": "markdown",
   "metadata": {},
   "source": [
    "Type\t… to Get\n",
    "*Italic*\tItalic\n",
    "**Bold**\tBold\n",
    "# Heading 1\t\n",
    "Heading 1\n",
    "## Heading 2\t\n",
    "Heading 2\n",
    "[Link](http://a.com)\tLink\n",
    "![Image](http://url/a.png)\tMarkdown\n",
    "> Blockquote\t\n",
    "Blockquote\n",
    "* List\n",
    "* List\n",
    "* List\n",
    "\n",
    "List\n",
    "List\n",
    "List\n",
    "1. One\n",
    "2. Two\n",
    "3. Three\n",
    "\n",
    "One\n",
    "Two\n",
    "Three\n",
    "Horizontal Rule\n",
    "\n",
    "---\tHorizontal Rule\n",
    "`Inline code` with backticks\tInline code with backticks\n",
    "```\n",
    "# code block\n",
    "print '3 backticks or'\n",
    "print 'indent 4 spaces'\n",
    "```\t\n",
    "# code block\n",
    "print '3 backticks or'\n",
    "print 'indent 4 spaces'\n"
   ]
  },
  {
   "cell_type": "code",
   "execution_count": null,
   "metadata": {},
   "outputs": [],
   "source": []
  }
 ],
 "metadata": {
  "kernelspec": {
   "display_name": "Python 3",
   "language": "python",
   "name": "python3"
  },
  "language_info": {
   "codemirror_mode": {
    "name": "ipython",
    "version": 3
   },
   "file_extension": ".py",
   "mimetype": "text/x-python",
   "name": "python",
   "nbconvert_exporter": "python",
   "pygments_lexer": "ipython3",
   "version": "3.8.6"
  }
 },
 "nbformat": 4,
 "nbformat_minor": 4
}
