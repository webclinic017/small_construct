{
 "metadata": {
  "language_info": {
   "codemirror_mode": {
    "name": "ipython",
    "version": 3
   },
   "file_extension": ".py",
   "mimetype": "text/x-python",
   "name": "python",
   "nbconvert_exporter": "python",
   "pygments_lexer": "ipython3",
   "version": "3.7.7-final"
  },
  "orig_nbformat": 2,
  "kernelspec": {
   "name": "python3",
   "display_name": "Python 3",
   "language": "python"
  }
 },
 "nbformat": 4,
 "nbformat_minor": 2,
 "cells": [
  {
   "cell_type": "code",
   "execution_count": 2,
   "metadata": {},
   "outputs": [],
   "source": [
    "import pandas as pd\n",
    "data = pd.read_html('https://en.wikipedia.org/wiki/List_of_S%26P_500_companies')\n",
    "table = pd.DataFrame(data[0])\n",
    "table = table.drop(['SEC filings', 'CIK'], axis = 1)\n",
    "table.columns = ['tickers','secName','gicsSector','gicsSubIndustry','headQuarters','dateFirstAdded','founded']\n",
    "table.to_csv('data/sp500components.csv')"
   ]
  },
  {
   "cell_type": "code",
   "execution_count": 3,
   "metadata": {},
   "outputs": [
    {
     "output_type": "stream",
     "name": "stdout",
     "text": [
      "505\n"
     ]
    },
    {
     "output_type": "execute_result",
     "data": {
      "text/plain": [
       "  tickers              secName              gicsSector  \\\n",
       "0     MMM           3M Company             Industrials   \n",
       "1     ABT  Abbott Laboratories             Health Care   \n",
       "2    ABBV          AbbVie Inc.             Health Care   \n",
       "3    ABMD          ABIOMED Inc             Health Care   \n",
       "4     ACN        Accenture plc  Information Technology   \n",
       "\n",
       "                  gicsSubIndustry             headQuarters dateFirstAdded  \\\n",
       "0        Industrial Conglomerates      St. Paul, Minnesota     1976-08-09   \n",
       "1           Health Care Equipment  North Chicago, Illinois     1964-03-31   \n",
       "2                 Pharmaceuticals  North Chicago, Illinois     2012-12-31   \n",
       "3           Health Care Equipment   Danvers, Massachusetts     2018-05-31   \n",
       "4  IT Consulting & Other Services          Dublin, Ireland     2011-07-06   \n",
       "\n",
       "       founded  \n",
       "0         1902  \n",
       "1         1888  \n",
       "2  2013 (1888)  \n",
       "3         1981  \n",
       "4         1989  "
      ],
      "text/html": "<div>\n<style scoped>\n    .dataframe tbody tr th:only-of-type {\n        vertical-align: middle;\n    }\n\n    .dataframe tbody tr th {\n        vertical-align: top;\n    }\n\n    .dataframe thead th {\n        text-align: right;\n    }\n</style>\n<table border=\"1\" class=\"dataframe\">\n  <thead>\n    <tr style=\"text-align: right;\">\n      <th></th>\n      <th>tickers</th>\n      <th>secName</th>\n      <th>gicsSector</th>\n      <th>gicsSubIndustry</th>\n      <th>headQuarters</th>\n      <th>dateFirstAdded</th>\n      <th>founded</th>\n    </tr>\n  </thead>\n  <tbody>\n    <tr>\n      <th>0</th>\n      <td>MMM</td>\n      <td>3M Company</td>\n      <td>Industrials</td>\n      <td>Industrial Conglomerates</td>\n      <td>St. Paul, Minnesota</td>\n      <td>1976-08-09</td>\n      <td>1902</td>\n    </tr>\n    <tr>\n      <th>1</th>\n      <td>ABT</td>\n      <td>Abbott Laboratories</td>\n      <td>Health Care</td>\n      <td>Health Care Equipment</td>\n      <td>North Chicago, Illinois</td>\n      <td>1964-03-31</td>\n      <td>1888</td>\n    </tr>\n    <tr>\n      <th>2</th>\n      <td>ABBV</td>\n      <td>AbbVie Inc.</td>\n      <td>Health Care</td>\n      <td>Pharmaceuticals</td>\n      <td>North Chicago, Illinois</td>\n      <td>2012-12-31</td>\n      <td>2013 (1888)</td>\n    </tr>\n    <tr>\n      <th>3</th>\n      <td>ABMD</td>\n      <td>ABIOMED Inc</td>\n      <td>Health Care</td>\n      <td>Health Care Equipment</td>\n      <td>Danvers, Massachusetts</td>\n      <td>2018-05-31</td>\n      <td>1981</td>\n    </tr>\n    <tr>\n      <th>4</th>\n      <td>ACN</td>\n      <td>Accenture plc</td>\n      <td>Information Technology</td>\n      <td>IT Consulting &amp; Other Services</td>\n      <td>Dublin, Ireland</td>\n      <td>2011-07-06</td>\n      <td>1989</td>\n    </tr>\n  </tbody>\n</table>\n</div>"
     },
     "metadata": {},
     "execution_count": 3
    }
   ],
   "source": [
    "table = pd.DataFrame(data[0])\n",
    "table = table.drop(['SEC filings', 'CIK'], axis = 1)\n",
    "table.columns = ['tickers','secName','gicsSector','gicsSubIndustry','headQuarters','dateFirstAdded','founded']\n",
    "table.to_csv('data/sp500components.csv')\n",
    "print(len(table))\n",
    "table.head()"
   ]
  },
  {
   "cell_type": "code",
   "execution_count": 4,
   "metadata": {},
   "outputs": [
    {
     "output_type": "stream",
     "name": "stdout",
     "text": [
      "505\n"
     ]
    },
    {
     "output_type": "execute_result",
     "data": {
      "text/plain": [
       "['MMM', 'ABT', 'ABBV']"
      ]
     },
     "metadata": {},
     "execution_count": 4
    }
   ],
   "source": [
    "tickers_sp500 = list(table.tickers)\n",
    "print(len(tickers_sp500))\n",
    "tickers_sp500[:3]"
   ]
  },
  {
   "cell_type": "code",
   "execution_count": 5,
   "metadata": {},
   "outputs": [
    {
     "output_type": "stream",
     "name": "stdout",
     "text": [
      "505\n"
     ]
    },
    {
     "output_type": "execute_result",
     "data": {
      "text/plain": [
       "['3M Company', 'Abbott Laboratories', 'AbbVie Inc.']"
      ]
     },
     "metadata": {},
     "execution_count": 5
    }
   ],
   "source": [
    "companyName = list(table.secName)\n",
    "print(len(companyName))\n",
    "companyName[:3]"
   ]
  },
  {
   "cell_type": "code",
   "execution_count": 6,
   "metadata": {},
   "outputs": [
    {
     "output_type": "stream",
     "name": "stdout",
     "text": [
      "505\n"
     ]
    },
    {
     "output_type": "execute_result",
     "data": {
      "text/plain": [
       "['Industrials', 'Health Care', 'Health Care']"
      ]
     },
     "metadata": {},
     "execution_count": 6
    }
   ],
   "source": [
    "sectors = list(table.gicsSector)\n",
    "print(len(sectors))\n",
    "sectors[:3]"
   ]
  },
  {
   "cell_type": "code",
   "execution_count": 7,
   "metadata": {},
   "outputs": [
    {
     "output_type": "stream",
     "name": "stdout",
     "text": [
      "505\n"
     ]
    },
    {
     "output_type": "execute_result",
     "data": {
      "text/plain": [
       "['1902', '1888', '2013 (1888)']"
      ]
     },
     "metadata": {},
     "execution_count": 7
    }
   ],
   "source": [
    "founded = list(table.founded)\n",
    "print(len(founded))\n",
    "founded[:3]"
   ]
  },
  {
   "cell_type": "code",
   "execution_count": 8,
   "metadata": {},
   "outputs": [
    {
     "output_type": "stream",
     "name": "stdout",
     "text": [
      "505\n"
     ]
    },
    {
     "output_type": "execute_result",
     "data": {
      "text/plain": [
       "['St. Paul, Minnesota', 'North Chicago, Illinois', 'North Chicago, Illinois']"
      ]
     },
     "metadata": {},
     "execution_count": 8
    }
   ],
   "source": [
    "headQuarters = list(table.headQuarters)\n",
    "print(len(headQuarters))\n",
    "headQuarters[:3]"
   ]
  },
  {
   "cell_type": "code",
   "execution_count": 8,
   "metadata": {},
   "outputs": [
    {
     "output_type": "stream",
     "name": "stdout",
     "text": [
      "259\n"
     ]
    },
    {
     "output_type": "execute_result",
     "data": {
      "text/plain": [
       "  dateAddDrop tickerAdd         addCOname tickerDrop         dropCOname  \\\n",
       "0  2020-10-12       ---               ---        NBL       Noble Energy   \n",
       "1  2020-10-09       VNT           Vontier        ---                ---   \n",
       "2  2020-10-07      POOL  Pool Corporation       ETFC  E*TRADE Financial   \n",
       "3  2020-09-21      ETSY              Etsy        HRB          H&R Block   \n",
       "4  2020-09-21       TER          Teradyne       COTY          Coty Inc.   \n",
       "\n",
       "                                             reason  daysOn  \n",
       "0                 Chevron acquired Noble Energy.[6]      62  \n",
       "1  S&P 500 constituent Fortive spun off Vontier.[6]      65  \n",
       "2               Morgan Stanley acquired E*TRADE.[7]      67  \n",
       "3                  Market capitalization change.[8]      83  \n",
       "4                  Market capitalization change.[8]      83  "
      ],
      "text/html": "<div>\n<style scoped>\n    .dataframe tbody tr th:only-of-type {\n        vertical-align: middle;\n    }\n\n    .dataframe tbody tr th {\n        vertical-align: top;\n    }\n\n    .dataframe thead th {\n        text-align: right;\n    }\n</style>\n<table border=\"1\" class=\"dataframe\">\n  <thead>\n    <tr style=\"text-align: right;\">\n      <th></th>\n      <th>dateAddDrop</th>\n      <th>tickerAdd</th>\n      <th>addCOname</th>\n      <th>tickerDrop</th>\n      <th>dropCOname</th>\n      <th>reason</th>\n      <th>daysOn</th>\n    </tr>\n  </thead>\n  <tbody>\n    <tr>\n      <th>0</th>\n      <td>2020-10-12</td>\n      <td>---</td>\n      <td>---</td>\n      <td>NBL</td>\n      <td>Noble Energy</td>\n      <td>Chevron acquired Noble Energy.[6]</td>\n      <td>62</td>\n    </tr>\n    <tr>\n      <th>1</th>\n      <td>2020-10-09</td>\n      <td>VNT</td>\n      <td>Vontier</td>\n      <td>---</td>\n      <td>---</td>\n      <td>S&amp;P 500 constituent Fortive spun off Vontier.[6]</td>\n      <td>65</td>\n    </tr>\n    <tr>\n      <th>2</th>\n      <td>2020-10-07</td>\n      <td>POOL</td>\n      <td>Pool Corporation</td>\n      <td>ETFC</td>\n      <td>E*TRADE Financial</td>\n      <td>Morgan Stanley acquired E*TRADE.[7]</td>\n      <td>67</td>\n    </tr>\n    <tr>\n      <th>3</th>\n      <td>2020-09-21</td>\n      <td>ETSY</td>\n      <td>Etsy</td>\n      <td>HRB</td>\n      <td>H&amp;R Block</td>\n      <td>Market capitalization change.[8]</td>\n      <td>83</td>\n    </tr>\n    <tr>\n      <th>4</th>\n      <td>2020-09-21</td>\n      <td>TER</td>\n      <td>Teradyne</td>\n      <td>COTY</td>\n      <td>Coty Inc.</td>\n      <td>Market capitalization change.[8]</td>\n      <td>83</td>\n    </tr>\n  </tbody>\n</table>\n</div>"
     },
     "metadata": {},
     "execution_count": 8
    }
   ],
   "source": [
    "table1 = pd.DataFrame(data[1]).transpose().reset_index()\n",
    "table1 = table1.drop(['level_0', 'level_1'], axis = 1)\n",
    "table1 = table1.transpose().reset_index()\n",
    "table1.columns = ['index','dateAddDrop','tickerAdd','addCOname','tickerDrop','dropCOname','reason']\n",
    "table1.drop('index', axis = 1, inplace=True)\n",
    "table1.dateAddDrop = pd.to_datetime(table1.dateAddDrop)\n",
    "table1.fillna('---', inplace=True)\n",
    "\n",
    "\n",
    "from datetime import *\n",
    "\n",
    "dateAddDrop = list(table1.dateAddDrop)\n",
    "add = list(table1.tickerAdd.tail())\n",
    "drop = list(table1.tickerDrop.tail())\n",
    "now = datetime.now()\n",
    "days = []\n",
    "\n",
    "for dad in dateAddDrop:    \n",
    "    c = now - dad\n",
    "    c = str(c)\n",
    "    c = c.split()\n",
    "    days.append(int(c[0]))\n",
    "table1['daysOn'] = days\n",
    "\n",
    "\n",
    "table1.to_csv('data/sp500components_1.csv')\n",
    "print(len(table1))\n",
    "table1.head()"
   ]
  },
  {
   "cell_type": "code",
   "execution_count": 9,
   "metadata": {},
   "outputs": [
    {
     "output_type": "execute_result",
     "data": {
      "text/plain": [
       "    dateAddDrop tickerAdd            addCOname tickerDrop      dropCOname  \\\n",
       "254  2000-12-05       SBL  Symbol Technologies         OI  Owens-Illinois   \n",
       "255  2000-12-05       AYE     Allegheny Energy        GRA      W.R. Grace   \n",
       "256  2000-12-05       ABK      Ambac Financial        CCK  Crown Holdings   \n",
       "257  2000-07-27      JDSU         JDS Uniphase        RAD         RiteAid   \n",
       "258  1999-12-07      YHOO               Yahoo!        LDW         Laidlaw   \n",
       "\n",
       "                      reason  daysOn  \n",
       "254      Market Cap changes.    7313  \n",
       "255      Market Cap changes.    7313  \n",
       "256      Market Cap changes.    7313  \n",
       "257  Market Cap change.[205]    7444  \n",
       "258  Market Cap change.[206]    7677  "
      ],
      "text/html": "<div>\n<style scoped>\n    .dataframe tbody tr th:only-of-type {\n        vertical-align: middle;\n    }\n\n    .dataframe tbody tr th {\n        vertical-align: top;\n    }\n\n    .dataframe thead th {\n        text-align: right;\n    }\n</style>\n<table border=\"1\" class=\"dataframe\">\n  <thead>\n    <tr style=\"text-align: right;\">\n      <th></th>\n      <th>dateAddDrop</th>\n      <th>tickerAdd</th>\n      <th>addCOname</th>\n      <th>tickerDrop</th>\n      <th>dropCOname</th>\n      <th>reason</th>\n      <th>daysOn</th>\n    </tr>\n  </thead>\n  <tbody>\n    <tr>\n      <th>254</th>\n      <td>2000-12-05</td>\n      <td>SBL</td>\n      <td>Symbol Technologies</td>\n      <td>OI</td>\n      <td>Owens-Illinois</td>\n      <td>Market Cap changes.</td>\n      <td>7313</td>\n    </tr>\n    <tr>\n      <th>255</th>\n      <td>2000-12-05</td>\n      <td>AYE</td>\n      <td>Allegheny Energy</td>\n      <td>GRA</td>\n      <td>W.R. Grace</td>\n      <td>Market Cap changes.</td>\n      <td>7313</td>\n    </tr>\n    <tr>\n      <th>256</th>\n      <td>2000-12-05</td>\n      <td>ABK</td>\n      <td>Ambac Financial</td>\n      <td>CCK</td>\n      <td>Crown Holdings</td>\n      <td>Market Cap changes.</td>\n      <td>7313</td>\n    </tr>\n    <tr>\n      <th>257</th>\n      <td>2000-07-27</td>\n      <td>JDSU</td>\n      <td>JDS Uniphase</td>\n      <td>RAD</td>\n      <td>RiteAid</td>\n      <td>Market Cap change.[205]</td>\n      <td>7444</td>\n    </tr>\n    <tr>\n      <th>258</th>\n      <td>1999-12-07</td>\n      <td>YHOO</td>\n      <td>Yahoo!</td>\n      <td>LDW</td>\n      <td>Laidlaw</td>\n      <td>Market Cap change.[206]</td>\n      <td>7677</td>\n    </tr>\n  </tbody>\n</table>\n</div>"
     },
     "metadata": {},
     "execution_count": 9
    }
   ],
   "source": [
    "table1.tail()"
   ]
  },
  {
   "cell_type": "code",
   "execution_count": 10,
   "metadata": {},
   "outputs": [
    {
     "output_type": "stream",
     "name": "stdout",
     "text": [
      "['SBL', 'AYE', 'ABK']\n['OI', 'GRA', 'CCK']\n"
     ]
    }
   ],
   "source": [
    "print(add[:3])\n",
    "print(drop[:3])"
   ]
  },
  {
   "cell_type": "code",
   "execution_count": null,
   "metadata": {},
   "outputs": [],
   "source": []
  }
 ]
}